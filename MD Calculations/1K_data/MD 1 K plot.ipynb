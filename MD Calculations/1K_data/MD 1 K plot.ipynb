{
 "cells": [
  {
   "cell_type": "code",
   "execution_count": 6,
   "id": "0953f7e5",
   "metadata": {},
   "outputs": [
    {
     "name": "stderr",
     "output_type": "stream",
     "text": [
      "/home/tom/anaconda3/envs/mantid/lib/python3.6/site-packages/ipykernel_launcher.py:43: H5pyDeprecationWarning: The default file mode will change to 'r' (read-only) in h5py 3.0. To suppress this warning, pass the mode you need to h5py.File(), or set the global default h5.get_config().default_file_mode, or set the environment variable H5PY_DEFAULT_READONLY=1. Available modes are: 'r', 'r+', 'w', 'w-'/'x', 'a'. See the docs for details.\n"
     ]
    },
    {
     "data": {
      "image/png": "[encoded data removed]",
      "text/plain": [
       "<Figure size 432x288 with 2 Axes>"
      ]
     },
     "metadata": {
      "needs_background": "light"
     },
     "output_type": "display_data"
    }
   ],
   "source": [
    "import os\n",
    "import h5py \n",
    "import numpy as np \n",
    "from numpy import array as npa \n",
    "from matplotlib import pyplot as pl \n",
    "import pandas as pd\n",
    "from itertools import product\n",
    "import matplotlib as mpl\n",
    "import copy\n",
    "from matplotlib.patches import RegularPolygon\n",
    "from scipy.interpolate import interp2d, griddata\n",
    "from matplotlib.tri import Triangulation, CubicTriInterpolator, LinearTriInterpolator, TriInterpolator\n",
    "import string\n",
    "\n",
    "\n",
    "# Neutron scattering structure factor definitions\n",
    "def structure_factor(spins, qs, basis=np.eye(3)):\n",
    "#     diag = spins[...,(0, 4, 8)].sum(axis=-1)\n",
    "    cond = (qs[:,0] == 0) & (qs[:,1] == 0) & (qs[:,2] == 0)\n",
    "    qs[cond] = np.ones(3) * 1e-8\n",
    "    qsquared = qs[:, 0]**2+qs[:, 1]**2+qs[:, 2]**2\n",
    "    SF= np.zeros(spins.shape[:-1])\n",
    "\n",
    "    for a in range(3):\n",
    "        for b in range(3):\n",
    "            projector = np.dot(basis[:,a], basis[:,b]) - (\n",
    "                np.einsum(\"ij,j\",qs, basis[:,a]) * np.einsum(\"ij,j\",qs, basis[:,b])) / qsquared\n",
    "            SF += projector * spins[...,a+b+(2*a)] \n",
    "            \n",
    "    return SF\n",
    "\n",
    "def get_formatted(keys):\n",
    "    for i, k in enumerate(keys):\n",
    "        key = list(k)\n",
    "        if key[0] == \"G\":\n",
    "            keys[i] = r\"$\\Gamma_{}$\".format(key[1])\n",
    "        else: \n",
    "            keys[i] = r\"${}_{}$\".format(key[0], key[1])\n",
    "    return keys\n",
    "\n",
    "\n",
    "# read data from hdf5 file\n",
    "f = h5py.File(\"configuration_0.h5\")\n",
    "Suv = npa(f[\"spin_correlations/S_qw\"])\n",
    "freq = npa(f[\"spin_correlations/freq\"])\n",
    "ks = npa(f[\"spin_correlations/momentum\"])\n",
    "pc = npa(f[\"spin_correlations/pc\"])\n",
    "T = f.attrs[\"T\"]\n",
    "J1x = f.attrs[\"J1x\"]\n",
    "J1z = f.attrs[\"J1z\"]\n",
    "J3x = f.attrs[\"J3x\"]\n",
    "J3z = f.attrs[\"J3z\"]\n",
    "D = f.attrs[\"D\"]\n",
    "E = f.attrs[\"E\"]\n",
    "betaomega = 1/T * freq\n",
    "f.close()\n",
    "\n",
    "# mask singularities\n",
    "omit=[12, 19, 20, 22, 44, 51]\n",
    "\n",
    "shift = 1\n",
    "for i, p in enumerate(omit):\n",
    "    cond = p < pc \n",
    "    pc[cond] -= shift \n",
    "\n",
    "DSF = structure_factor(Suv, np.c_[ks, np.zeros(ks.shape[0])])\n",
    "x = ks[:,0]/(2*np.pi)\n",
    "xs = ks[~np.isin(np.arange(ks.shape[0]),omit),0] / (2*np.pi)\n",
    "DSF = DSF[:,~np.isin(np.arange(ks.shape[0]),omit)]\n",
    "\n",
    "# splice data\n",
    "d = (DSF.T*betaomega).T \n",
    "d = d[freq>0.5, :]\n",
    "xs = np.arange(xs.shape[0])\n",
    "\n",
    "\n",
    "# plot \n",
    "fig, ax = pl.subplots() \n",
    "c = \"Spectral_r\"\n",
    "cmap = copy.copy(mpl.cm.get_cmap(c))\n",
    "c1 = ax.pcolormesh(xs, freq[freq>0.5], (d/d.max()), cmap=cmap, shading=\"auto\")\n",
    "\n",
    "ax.set_ylabel(r\"$\\omega$ (meV)\")\n",
    "\n",
    "ax.set_ylim([0, 20])\n",
    "labels = get_formatted([\"M1\", \"K1\", \"G2\", \"M2\", \"K1\", \"M3\", \"G3\", \"M1\"])\n",
    "ax.set_xticks(pc)\n",
    "# labels = xs\n",
    "# ax.set_xticks(xs)\n",
    "ax.set_xticklabels(labels)\n",
    "\n",
    "fig.colorbar(c1, ax=ax, use_gridspec=True)\n",
    "#fig.savefig(\"DSSF.png\")\n",
    "pl.savefig('md_1K.png',dpi=300)\n",
    "pl.show()\n"
   ]
  },
  {
   "cell_type": "code",
   "execution_count": 4,
   "id": "1dded34d",
   "metadata": {},
   "outputs": [
    {
     "data": {
      "text/plain": [
       "array([ 0.,  4., 12., 21., 24., 28., 40., 51.])"
      ]
     },
     "execution_count": 4,
     "metadata": {},
     "output_type": "execute_result"
    }
   ],
   "source": [
    "pc"
   ]
  },
  {
   "cell_type": "code",
   "execution_count": 7,
   "id": "29a0607e",
   "metadata": {},
   "outputs": [
    {
     "data": {
      "text/plain": [
       "51"
      ]
     },
     "execution_count": 7,
     "metadata": {},
     "output_type": "execute_result"
    }
   ],
   "source": [
    "len(xs)"
   ]
  },
  {
   "cell_type": "code",
   "execution_count": null,
   "id": "f2f28ff6",
   "metadata": {},
   "outputs": [],
   "source": []
  }
 ],
 "metadata": {
  "kernelspec": {
   "display_name": "Python 3",
   "language": "python",
   "name": "python3"
  },
  "language_info": {
   "codemirror_mode": {
    "name": "ipython",
    "version": 3
   },
   "file_extension": ".py",
   "mimetype": "text/x-python",
   "name": "python",
   "nbconvert_exporter": "python",
   "pygments_lexer": "ipython3",
   "version": "3.6.13"
  }
 },
 "nbformat": 4,
 "nbformat_minor": 5
}
